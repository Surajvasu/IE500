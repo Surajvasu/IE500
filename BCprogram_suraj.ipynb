{
 "cells": [
  {
   "cell_type": "code",
   "execution_count": 0,
   "metadata": {
    "colab": {},
    "colab_type": "code",
    "id": "o5tOGGfdmCq6"
   },
   "outputs": [],
   "source": [
    "import sklearn\n",
    "import numpy as np\n",
    "from keras.layers import Dense\n",
    "from keras import Sequential\n",
    "from keras.callbacks import EarlyStopping\n",
    "import matplotlib.pyplot as plt\n",
    "\n",
    "from sklearn.datasets import load_breast_cancer\n",
    "bcdata = load_breast_cancer()\n",
    "#print(bcdata.data.shape)\n",
    "\n",
    "#bcdata.target[:40]\n",
    "\n",
    "my_ones = bcdata.data[bcdata.target==1,:]\n",
    "my_zeros = bcdata.data[bcdata.target==0,:]\n",
    "train=np.concatenate((my_ones[:10],my_zeros[:10]), axis=0)\n",
    "target=np.ones(20)\n",
    "target[10:]=0"
   ]
  },
  {
   "cell_type": "code",
   "execution_count": 55,
   "metadata": {
    "colab": {
     "base_uri": "https://localhost:8080/",
     "height": 590
    },
    "colab_type": "code",
    "id": "HilS36dpnm32",
    "outputId": "ec1dada4-b1e6-4283-e5b0-6581992934fc"
   },
   "outputs": [
    {
     "data": {
      "text/plain": [
       "Text(0, 0.5, 'Average Loss')"
      ]
     },
     "execution_count": 55,
     "metadata": {
      "tags": []
     },
     "output_type": "execute_result"
    },
    {
     "data": {
      "image/png": "[encoded data removed]",
      "text/plain": [
       "<Figure size 432x288 with 1 Axes>"
      ]
     },
     "metadata": {
      "tags": []
     },
     "output_type": "display_data"
    },
    {
     "data": {
      "image/png": "[encoded data removed]",
      "text/plain": [
       "<Figure size 432x288 with 1 Axes>"
      ]
     },
     "metadata": {
      "tags": []
     },
     "output_type": "display_data"
    }
   ],
   "source": [
    "D = 200 # width of the hidden layer\n",
    "iterations = 3000 # Number of iterations\n",
    "lr = 0.001 # learning rate\n",
    "\n",
    "# Initialize weights and biases\n",
    "w1 = np.random.normal(size=(30, D))\n",
    "b1 = np.random.normal(size=(D, 1))\n",
    "\n",
    "w2 = np.random.normal(size=(D, 1))\n",
    "b2 = np.random.normal(size=(1, 1))\n",
    "\n",
    "# Randomly select sample indices to train with\n",
    "train_samples = np.random.randint(low=0, high=20, size=(iterations,))\n",
    "# print(train_samples)\n",
    "\n",
    "# Compute accuracy before training\n",
    "Z1 = np.matmul(train,w1) + np.transpose(b1)\n",
    "A1 = np.tanh(Z1)\n",
    "Z2 = np.matmul(A1,w2) + np.transpose(b2)\n",
    "Y = 1/(1+np.exp(-Z2))\n",
    "Y = Y.flatten()\n",
    "Y_pred = 1*(Y>0.5)\n",
    "Y_pred = Y_pred.flatten()\n",
    "equ = 1*(Y_pred==target)\n",
    "acc = np.sum(equ)/equ.shape[0]\n",
    "# Compute Average Loss of Network\n",
    "avg_loss = -(target*np.log(Y)+(1-target)*np.log(1-Y))\n",
    "avg_loss = np.mean(avg_loss)\n",
    "\n",
    "acc_all = [acc]\n",
    "loss_all = [avg_loss]\n",
    "\n",
    "for i in train_samples:\n",
    "  # Forward propagation\n",
    "  x = train[i, :]\n",
    "  x = x.reshape((30, 1))\n",
    "\n",
    "  z1 = np.matmul(np.transpose(w1),x) + b1\n",
    "  a1 = np.tanh(z1)\n",
    "\n",
    "  z2 = np.matmul(np.transpose(w2),a1) + b2\n",
    "  y = 1/(1+np.exp(-z2))\n",
    "\n",
    "  # Loss computation\n",
    "  yt = target[i]\n",
    "  J = -(yt*np.log(y)+(1-yt)*np.log(1-y))\n",
    "\n",
    "  # Backpropagation\n",
    "  G = -(yt*1/y+(1-yt)*1/(y-1)) # del_y\n",
    "  G = G * y*(1-y) # del_z2\n",
    "  del_b2 = G\n",
    "  del_w2 = a1*G \n",
    "  G = w2*G #del_a1\n",
    "  G = G * (1-a1**2)\n",
    "  del_w1 = np.matmul(x, np.transpose(G))\n",
    "  del_b1 = G \n",
    "\n",
    "  # Parameter update\n",
    "  w1 = w1-lr*del_w1\n",
    "  w2 = w2-lr*del_w2\n",
    "  b1 = b1-lr*del_b1\n",
    "  b2 = b2-lr*del_b2\n",
    "\n",
    "  # Compute accuracy\n",
    "  Z1 = np.matmul(train,w1) + np.transpose(b1)\n",
    "  A1 = np.tanh(Z1)\n",
    "  Z2 = np.matmul(A1,w2) + np.transpose(b2)\n",
    "  Y = 1/(1+np.exp(-Z2))\n",
    "  Y = Y.flatten()\n",
    "  Y_pred = 1*(Y>0.5)\n",
    "  Y_pred = Y_pred.flatten()\n",
    "  equ = 1*(Y_pred==target)\n",
    "  acc = np.sum(equ)/equ.shape[0]\n",
    "  acc_all.append(acc)\n",
    "\n",
    "  # Compute Average Loss of Network\n",
    "  avg_loss = -(target*np.log(Y)+(1-target)*np.log(1-Y))\n",
    "  avg_loss = np.mean(avg_loss)\n",
    "  loss_all.append(avg_loss)\n",
    "\n",
    "# Plot accuracy vs iterations\n",
    "plt.figure()\n",
    "plt.plot(acc_all)\n",
    "plt.title('Accuracy vs Iterations')\n",
    "plt.xlabel('Iterations')\n",
    "plt.ylabel('Accuracy')\n",
    "\n",
    "# Plot average loss vs iterations\n",
    "plt.figure()\n",
    "plt.plot(loss_all)\n",
    "plt.title('Average loss vs Iterations')\n",
    "plt.xlabel('Iterations')\n",
    "plt.ylabel('Average Loss')"
   ]
  }
 ],
 "metadata": {
  "colab": {
   "collapsed_sections": [],
   "name": "BCprogram_suraj.ipynb",
   "provenance": []
  },
  "kernelspec": {
   "display_name": "Python 3",
   "language": "python",
   "name": "python3"
  },
  "language_info": {
   "codemirror_mode": {
    "name": "ipython",
    "version": 3
   },
   "file_extension": ".py",
   "mimetype": "text/x-python",
   "name": "python",
   "nbconvert_exporter": "python",
   "pygments_lexer": "ipython3",
   "version": "3.8.5"
  }
 },
 "nbformat": 4,
 "nbformat_minor": 1
}
